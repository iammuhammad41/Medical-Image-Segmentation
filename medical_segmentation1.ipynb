{
  "cells": [
    {
      "cell_type": "markdown",
      "metadata": {
        "id": "view-in-github",
        "colab_type": "text"
      },
      "source": [
        "<a href=\"https://colab.research.google.com/github/iammuhammad41/Medical-Image-Segmentation/blob/main/medical_segmentation1.ipynb\" target=\"_parent\"><img src=\"https://colab.research.google.com/assets/colab-badge.svg\" alt=\"Open In Colab\"/></a>"
      ]
    },
    {
      "cell_type": "code",
      "execution_count": 1,
      "id": "d71352b1",
      "metadata": {
        "execution": {
          "iopub.execute_input": "2022-12-16T22:53:58.696179Z",
          "iopub.status.busy": "2022-12-16T22:53:58.695456Z",
          "iopub.status.idle": "2022-12-16T22:54:16.051523Z",
          "shell.execute_reply": "2022-12-16T22:54:16.050779Z"
        },
        "papermill": {
          "duration": 17.363125,
          "end_time": "2022-12-16T22:54:16.054586",
          "exception": false,
          "start_time": "2022-12-16T22:53:58.691461",
          "status": "completed"
        },
        "tags": [],
        "id": "d71352b1"
      },
      "outputs": [],
      "source": [
        "!pip install -U --progress-bar on -q evalseg==2.0.8\n",
        "\n",
        "# for installing latest version from github\n",
        "# !pip uninstall -y evalseg\n",
        "# !pip install -U --progress-bar on  git+https://github.com/modaresimr/evalseg.git"
      ]
    },
    {
      "cell_type": "code",
      "execution_count": null,
      "id": "6c41535d",
      "metadata": {
        "execution": {
          "iopub.execute_input": "2022-12-16T22:54:16.067507Z",
          "iopub.status.busy": "2022-12-16T22:54:16.067062Z",
          "iopub.status.idle": "2022-12-16T22:54:21.313287Z",
          "shell.execute_reply": "2022-12-16T22:54:21.312355Z"
        },
        "papermill": {
          "duration": 5.253357,
          "end_time": "2022-12-16T22:54:21.315761",
          "exception": false,
          "start_time": "2022-12-16T22:54:16.062404",
          "status": "completed"
        },
        "tags": [],
        "id": "6c41535d"
      },
      "outputs": [],
      "source": [
        "import evalseg\n",
        "import numpy as np\n",
        "import pandas as pd\n",
        "from ipywidgets import interact, IntSlider\n",
        "import os"
      ]
    },
    {
      "cell_type": "code",
      "execution_count": null,
      "id": "29ff9733",
      "metadata": {
        "execution": {
          "iopub.execute_input": "2022-12-16T22:54:21.327445Z",
          "iopub.status.busy": "2022-12-16T22:54:21.326706Z",
          "iopub.status.idle": "2022-12-16T22:54:21.332928Z",
          "shell.execute_reply": "2022-12-16T22:54:21.331640Z"
        },
        "papermill": {
          "duration": 0.012096,
          "end_time": "2022-12-16T22:54:21.335013",
          "exception": false,
          "start_time": "2022-12-16T22:54:21.322917",
          "status": "completed"
        },
        "tags": [],
        "id": "29ff9733"
      },
      "outputs": [],
      "source": [
        "root_data='/kaggle/input/medical-image-segmentation/'\n",
        "\n",
        "'''# Ref. Medical Image Segmentation: Evaluation: https://www.kaggle.com/dsv/4728423'''"
      ]
    },
    {
      "cell_type": "code",
      "execution_count": 2,
      "id": "abb4e2ef",
      "metadata": {
        "execution": {
          "iopub.execute_input": "2022-12-16T22:54:21.346224Z",
          "iopub.status.busy": "2022-12-16T22:54:21.345799Z",
          "iopub.status.idle": "2022-12-16T22:55:04.612343Z",
          "shell.execute_reply": "2022-12-16T22:55:04.611578Z"
        },
        "papermill": {
          "duration": 43.294617,
          "end_time": "2022-12-16T22:55:04.636758",
          "exception": false,
          "start_time": "2022-12-16T22:54:21.342141",
          "status": "completed"
        },
        "tags": [],
        "id": "abb4e2ef"
      },
      "outputs": [],
      "source": [
        "@interact\n",
        "def select_dataset(dataset_name=sorted([d for d in os.listdir(root_data) if os.path.isdir(f'{root_data}/{d}')])):\n",
        "    global dataset\n",
        "\n",
        "    dataset = evalseg.io.Dataset(f'{root_data}/{dataset_name}')\n",
        "\n",
        "    @interact\n",
        "    def select_case(case=sorted(dataset.get_available_ids())):\n",
        "\n",
        "        gto= dataset.get_groundtruth(case)\n",
        "        cto = dataset.get_CT(case)\n",
        "\n",
        "        @interact\n",
        "        def ax_select(ax=['z', 'x', 'y', 'all']):\n",
        "            gto_dense=gto.todense()\n",
        "            gtmax = (gto_dense.sum(axis=2).sum(axis=1).argmax(), gto_dense.sum(axis=2).sum(axis=0).argmax(), gto_dense.sum(axis=1).sum(axis=0).argmax())\n",
        "            axi = {'all': -1, 'x': 0, 'y': 1, 'z': 2}[ax]\n",
        "\n",
        "            @interact\n",
        "            def onlyMaxFrame(frame=IntSlider(-1, min=-1, max=-1) if ax == 'all' else IntSlider(gtmax[axi], min=0, max=gto.shape[axi]-1)):\n",
        "                global data, gt, voxelsize\n",
        "                evalseg.reload()\n",
        "                np.seterr(all='raise')\n",
        "\n",
        "                gt = evalseg.geometry.slice_segment(gto, axi, [frame])\n",
        "                ct = evalseg.geometry.slice_segment(cto, axi, [frame])\n",
        "                mme = evalseg.metrics.MultiClassMetric(\n",
        "                    evalseg.metrics.MME(debug={'U': 1, 'B': 1, 'T':1,'R':1,'D': 1, 'UI': 1}),\n",
        "                    dataset.num_labels,\n",
        "                    debug={'log': 1}\n",
        "                )\n",
        "                mme.set_reference(gt)\n",
        "\n",
        "                @interact\n",
        "                def pred_selec(prediction=dataset.get_prediction_methods(case)):\n",
        "                    global pred\n",
        "                    pred = dataset.get_prediction(prediction, case)\n",
        "                    pred = evalseg.geometry.slice_segment(pred,  axi, [frame])\n",
        "                    if ax != 'all':\n",
        "                        ctlbl = f\"{dataset_name.split('_')[1]} {case} {ax}={frame}\"\n",
        "                        comps = mme.metrics[1].helper['components']\n",
        "                        print(comps)\n",
        "                        gt2 = gt.todense()\n",
        "                        for c in comps:\n",
        "                            gt2 = gt2 & ~ comps[c]['gt_skeleton'].todense()\n",
        "                        evalseg.ui.multi_plot_2d(ct.todense(), gt2, {prediction: pred.todense()}, spacing=gt.voxelsize, ctlbl=ctlbl, z_titles=[frame], crop2roi=0)\n",
        "                    else:\n",
        "                        pass  # TODO\n",
        "                    global debug_info\n",
        "                    res,debug_info = mme.evaluate(pred, parallel=0,return_debug=True)\n",
        "                    evalseg.ui.plot_metric(res, name=dataset_name)\n"
      ]
    }
  ],
  "metadata": {
    "kernelspec": {
      "display_name": "Python 3",
      "language": "python",
      "name": "python3"
    },
    "language_info": {
      "codemirror_mode": {
        "name": "ipython",
        "version": 3
      },
      "file_extension": ".py",
      "mimetype": "text/x-python",
      "name": "python",
      "nbconvert_exporter": "python",
      "pygments_lexer": "ipython3",
      "version": "3.7.12"
    },
    "papermill": {
      "default_parameters": {},
      "duration": 77.709134,
      "end_time": "2022-12-16T22:55:06.212008",
      "environment_variables": {},
      "exception": null,
      "input_path": "__notebook__.ipynb",
      "output_path": "__notebook__.ipynb",
      "parameters": {},
      "start_time": "2022-12-16T22:53:48.502874",
      "version": "2.3.4"
    },
    "colab": {
      "provenance": [],
      "include_colab_link": true
    }
  },
  "nbformat": 4,
  "nbformat_minor": 5
}